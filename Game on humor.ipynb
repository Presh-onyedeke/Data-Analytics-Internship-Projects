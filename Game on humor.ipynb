{
 "cells": [
  {
   "cell_type": "code",
   "execution_count": 1,
   "id": "33f3c759",
   "metadata": {},
   "outputs": [],
   "source": [
    "import numpy as np\n",
    "import pandas as pd\n",
    "from numpy import random\n"
   ]
  },
  {
   "cell_type": "code",
   "execution_count": 2,
   "id": "6b78e280",
   "metadata": {},
   "outputs": [
    {
     "data": {
      "text/html": [
       "<div>\n",
       "<style scoped>\n",
       "    .dataframe tbody tr th:only-of-type {\n",
       "        vertical-align: middle;\n",
       "    }\n",
       "\n",
       "    .dataframe tbody tr th {\n",
       "        vertical-align: top;\n",
       "    }\n",
       "\n",
       "    .dataframe thead th {\n",
       "        text-align: right;\n",
       "    }\n",
       "</style>\n",
       "<table border=\"1\" class=\"dataframe\">\n",
       "  <thead>\n",
       "    <tr style=\"text-align: right;\">\n",
       "      <th></th>\n",
       "      <th>text</th>\n",
       "      <th>humor</th>\n",
       "    </tr>\n",
       "  </thead>\n",
       "  <tbody>\n",
       "    <tr>\n",
       "      <th>count</th>\n",
       "      <td>200000</td>\n",
       "      <td>200000</td>\n",
       "    </tr>\n",
       "    <tr>\n",
       "      <th>unique</th>\n",
       "      <td>200000</td>\n",
       "      <td>2</td>\n",
       "    </tr>\n",
       "    <tr>\n",
       "      <th>top</th>\n",
       "      <td>Joe biden rules out 2020 bid: 'guys, i'm not r...</td>\n",
       "      <td>False</td>\n",
       "    </tr>\n",
       "    <tr>\n",
       "      <th>freq</th>\n",
       "      <td>1</td>\n",
       "      <td>100000</td>\n",
       "    </tr>\n",
       "  </tbody>\n",
       "</table>\n",
       "</div>"
      ],
      "text/plain": [
       "                                                     text   humor\n",
       "count                                              200000  200000\n",
       "unique                                             200000       2\n",
       "top     Joe biden rules out 2020 bid: 'guys, i'm not r...   False\n",
       "freq                                                    1  100000"
      ]
     },
     "execution_count": 2,
     "metadata": {},
     "output_type": "execute_result"
    }
   ],
   "source": [
    "df = pd.read_csv(\"dataset.csv\")\n",
    "df.dropna(inplace = True)\n",
    "df.describe()"
   ]
  },
  {
   "cell_type": "code",
   "execution_count": null,
   "id": "161de2b5",
   "metadata": {},
   "outputs": [],
   "source": [
    "df.groupby(['humor']).count()"
   ]
  },
  {
   "cell_type": "code",
   "execution_count": null,
   "id": "eb8f6d89",
   "metadata": {},
   "outputs": [],
   "source": [
    "data = df.loc[df['text'].str.contains(\"Why\") | df['text'].str.contains(\"What\")]\n",
    "print(data)"
   ]
  },
  {
   "cell_type": "code",
   "execution_count": null,
   "id": "50bf2562",
   "metadata": {},
   "outputs": [],
   "source": [
    "data.describe()"
   ]
  },
  {
   "cell_type": "code",
   "execution_count": null,
   "id": "e58625a5",
   "metadata": {},
   "outputs": [],
   "source": [
    "new_array=data.to_numpy()\n",
    "true_array=[]\n",
    "false_array=[]\n",
    "my_array=[]\n",
    "\n",
    "for i in new_array:\n",
    "    if i[-1]==True:\n",
    "        true_array.append(i[0])\n",
    "    else:\n",
    "        false_array.append(i[0])\n",
    "\n",
    "my_array.append(true_array)\n",
    "my_array.append(false_array)\n",
    "\n",
    "#print(my_array)"
   ]
  },
  {
   "cell_type": "code",
   "execution_count": null,
   "id": "2b742b79",
   "metadata": {},
   "outputs": [],
   "source": [
    "my_joke=random.choice(random.choice(my_array, p=[len(true_array)/len(new_array),1- (len(true_array)/len(new_array))]))\n",
    "if my_joke in true_array:\n",
    "    print(f\"{my_joke} IS HUMOROUS\")\n",
    "else:\n",
    "    print(f\"{my_joke} IS NOT HUMOROUS\")"
   ]
  }
 ],
 "metadata": {
  "kernelspec": {
   "display_name": "Python 3 (ipykernel)",
   "language": "python",
   "name": "python3"
  },
  "language_info": {
   "codemirror_mode": {
    "name": "ipython",
    "version": 3
   },
   "file_extension": ".py",
   "mimetype": "text/x-python",
   "name": "python",
   "nbconvert_exporter": "python",
   "pygments_lexer": "ipython3",
   "version": "3.9.13"
  }
 },
 "nbformat": 4,
 "nbformat_minor": 5
}
