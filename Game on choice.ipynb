{
 "cells": [
  {
   "cell_type": "code",
   "execution_count": null,
   "id": "6c12c90d",
   "metadata": {},
   "outputs": [],
   "source": [
    "import numpy as np\n",
    "from numpy import random"
   ]
  },
  {
   "cell_type": "code",
   "execution_count": null,
   "id": "fcbf84ef",
   "metadata": {},
   "outputs": [],
   "source": [
    "game = random.choice(13, p=(0,0.1,0.1,0.1,0,0.1,0.1,0.1,0.1,0.1,0.1,0,0.1))\n",
    "print (game)"
   ]
  },
  {
   "cell_type": "code",
   "execution_count": null,
   "id": "0cc2e380",
   "metadata": {},
   "outputs": [],
   "source": [
    "choice =\"y\"\n",
    "while choice==\"y\":\n",
    "    game = random.choice(13, p=(0,0.1,0.1,0.1,0,0.1,0.1,0.1,0.1,0.1,0.1,0,0.1))\n",
    "    print (game)\n",
    "    if game == 6:\n",
    "        print(\"starting point, try again\")\n",
    "       \n",
    "    if game == 9:\n",
    "        print(\"fair enough, you can still do better\")\n",
    "        \n",
    "      \n",
    "    if game == 10:\n",
    "        print(\"great, but you can do better\")\n",
    "        \n",
    "       \n",
    "    if game == 12:\n",
    "        print(\"bravo!!!\")\n",
    "        break\n",
    "        \n",
    "    else:\n",
    "        print(\"Try again \\n y/n\")\n",
    "        choice=input()\n",
    "        "
   ]
  }
 ],
 "metadata": {
  "kernelspec": {
   "display_name": "Python 3 (ipykernel)",
   "language": "python",
   "name": "python3"
  },
  "language_info": {
   "codemirror_mode": {
    "name": "ipython",
    "version": 3
   },
   "file_extension": ".py",
   "mimetype": "text/x-python",
   "name": "python",
   "nbconvert_exporter": "python",
   "pygments_lexer": "ipython3",
   "version": "3.9.13"
  }
 },
 "nbformat": 4,
 "nbformat_minor": 5
}
