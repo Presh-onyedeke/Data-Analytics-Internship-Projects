{
 "cells": [
  {
   "cell_type": "code",
   "execution_count": 17,
   "id": "a4962442",
   "metadata": {},
   "outputs": [
    {
     "name": "stdout",
     "output_type": "stream",
     "text": [
      "enter value in feet or meters: 3\n",
      "enter the measuring unit: meters\n",
      "the conversion from feet to meters is: 9.843\n"
     ]
    }
   ],
   "source": [
    "value = float(input(\"enter value in feet or meters: \"))\n",
    "unit = input(\"enter the measuring unit: \")\n",
    "if unit == \"feet\":\n",
    "    feet = value*0.3048\n",
    "    print (f\"the conversion from meters to feet is: {round(feet,4)}\")\n",
    "elif unit ==\"meters\":\n",
    "    meters = value*3.281\n",
    "    print (f\"the conversion from feet to meters is: {round(meters,4)}\")\n",
    "else:\n",
    "    print(\"no measuring unit found\")"
   ]
  },
  {
   "cell_type": "code",
   "execution_count": null,
   "id": "f567ddfc",
   "metadata": {},
   "outputs": [],
   "source": []
  },
  {
   "cell_type": "code",
   "execution_count": null,
   "id": "fe47935a",
   "metadata": {},
   "outputs": [],
   "source": []
  },
  {
   "cell_type": "code",
   "execution_count": null,
   "id": "89c3a04e",
   "metadata": {},
   "outputs": [],
   "source": []
  },
  {
   "cell_type": "code",
   "execution_count": null,
   "id": "701ff3da",
   "metadata": {},
   "outputs": [],
   "source": []
  },
  {
   "cell_type": "code",
   "execution_count": null,
   "id": "45b12e6c",
   "metadata": {},
   "outputs": [],
   "source": []
  },
  {
   "cell_type": "code",
   "execution_count": null,
   "id": "98ef06ac",
   "metadata": {},
   "outputs": [],
   "source": []
  }
 ],
 "metadata": {
  "kernelspec": {
   "display_name": "Python 3 (ipykernel)",
   "language": "python",
   "name": "python3"
  },
  "language_info": {
   "codemirror_mode": {
    "name": "ipython",
    "version": 3
   },
   "file_extension": ".py",
   "mimetype": "text/x-python",
   "name": "python",
   "nbconvert_exporter": "python",
   "pygments_lexer": "ipython3",
   "version": "3.9.13"
  }
 },
 "nbformat": 4,
 "nbformat_minor": 5
}
