{
 "cells": [
  {
   "cell_type": "code",
   "execution_count": null,
   "id": "45ccf193",
   "metadata": {},
   "outputs": [],
   "source": [
    "def factorial(n):\n",
    "    if n==1:\n",
    "        return n\n",
    "    else:\n",
    "        return n*factorial(n-1)"
   ]
  },
  {
   "cell_type": "code",
   "execution_count": null,
   "id": "047a3c8b",
   "metadata": {},
   "outputs": [],
   "source": [
    "num=factorial(6)\n",
    "print(num)"
   ]
  },
  {
   "cell_type": "code",
   "execution_count": null,
   "id": "5b495456",
   "metadata": {},
   "outputs": [],
   "source": [
    "#multiplication table\n",
    "\n",
    "for i in range(1,12):\n",
    "    for j in range(1,12):\n",
    "        m=i*j\n",
    "        print(i, \"x\", j, \"=\", m)\n",
    "    print()\n",
    "        \n",
    "    \n",
    "    "
   ]
  },
  {
   "cell_type": "code",
   "execution_count": null,
   "id": "c1b0539e",
   "metadata": {},
   "outputs": [],
   "source": [
    "out_str= main_str=\"\"\n",
    "for i in range(1,12):\n",
    "    for j in range(1,5):\n",
    "        m=j*i\n",
    "        main_str+= str(j) + \"x\", + str(i) + \"=\" + str(m) + \"\\t\"\n",
    "    out_str += main_str + \"\\n\"\n",
    "    main_str=\"\"\n",
    "print(out_str)\n",
    "    "
   ]
  },
  {
   "cell_type": "code",
   "execution_count": null,
   "id": "a8cd3345",
   "metadata": {},
   "outputs": [],
   "source": [
    "a=[\"heart\",\"care\",\"live\",\"drive\",\"baker\",\"pool\"]\n",
    "b=[\"earth\",\"race\",\"evil\",\"driver\",\"break\",\"loop\"]\n",
    "\n",
    "for i in range (len(a)):\n",
    "    s1 = sorted(a[i])\n",
    "    s2 = sorted(b[i])\n",
    "    if (s1 == s2):\n",
    "        print (\"it is equal\")\n",
    "    else:\n",
    "        print(\"it is not equal\")     "
   ]
  },
  {
   "cell_type": "code",
   "execution_count": null,
   "id": "c7db01dc",
   "metadata": {},
   "outputs": [],
   "source": []
  },
  {
   "cell_type": "code",
   "execution_count": null,
   "id": "e4aede00",
   "metadata": {},
   "outputs": [],
   "source": [
    "import os\n",
    "words=[\"florida\",\"flooring\",\"flooding\",\"flowing\",\"floatation\"]\n",
    "os.path.commonprefix(words)\n"
   ]
  },
  {
   "cell_type": "code",
   "execution_count": null,
   "id": "3d29bd46",
   "metadata": {},
   "outputs": [],
   "source": [
    "words=[\"florida\",\"flooring\",\"flooding\",\"flowing\",\"floatation\"]\n",
    "\n",
    "for i in range(len(words)):\n",
    "    if (words[i][:3] == words [i][:3]):\n",
    "        print(words[i][:3])\n",
    "    else:\n",
    "        print(\"false\")\n",
    "    "
   ]
  },
  {
   "cell_type": "code",
   "execution_count": null,
   "id": "a341d014",
   "metadata": {},
   "outputs": [],
   "source": [
    "m=[\"mimms\"]\n",
    "print(m[0][-2])"
   ]
  },
  {
   "cell_type": "code",
   "execution_count": null,
   "id": "4800cb3d",
   "metadata": {},
   "outputs": [],
   "source": [
    "a=[\"heart\",\"care\",\"live\",\"drive\",\"baker\",\"loop\"]\n",
    "b=[\"earth\",\"race\",\"evil\",\"driver\",\"break\",\"pool\"]\n",
    "truth_list=[]\n",
    "count=0\n",
    "for i in range (len(a)):\n",
    "    if len(a[i]) != len(b[i]):\n",
    "        truth_list.append(len(a[i]) == len(b[i]))\n",
    "        continue\n",
    "    for j in a[i]:\n",
    "        for k in b[i]:\n",
    "            if j==k:\n",
    "                count+=1\n",
    "                break\n",
    "    truth_list.append(count==len(a[i]))\n",
    "    print(count)\n",
    "    count=0\n",
    "print (truth_list)"
   ]
  },
  {
   "cell_type": "code",
   "execution_count": null,
   "id": "b5b0632c",
   "metadata": {},
   "outputs": [],
   "source": []
  },
  {
   "cell_type": "code",
   "execution_count": null,
   "id": "30a4353b",
   "metadata": {},
   "outputs": [],
   "source": [
    "def factorial(n):\n",
    "    if n==0:\n",
    "        return 1\n",
    "    else:\n",
    "        return n*factorial(n-1)\n",
    "\n",
    "def combination(n,r):\n",
    "    val=factorial(n)/(factorial(n-r)*factorial(r))\n",
    "    return int(val)\n",
    "\n",
    "def pascal_t(n):\n",
    "    _str=\" \"\n",
    "    for i in range(n+1):\n",
    "        for j in range(i+1):\n",
    "            val=combination(i,j)\n",
    "            _str += str(val) + \"  \"\n",
    "        print (_str.center(80))\n",
    "        _str = \" \"\n",
    "\n",
    "pascal_t(4)"
   ]
  },
  {
   "cell_type": "code",
   "execution_count": null,
   "id": "4ed7e937",
   "metadata": {},
   "outputs": [],
   "source": [
    "a=[\"florida\",\"flooring\",\"flooding\",\"flowing\",\"floatation\"]\n",
    "a.sort()\n",
    "print(a)\n",
    "out_str=\" \"\n",
    "count=0\n",
    "for i in range (len(a[0])):\n",
    "    for j in range (len(a)):\n",
    "        if a[0][i]==a[j][i]:\n",
    "            count +=1\n",
    "    if count == len(a):\n",
    "        print(count)\n",
    "        out_str += a[0][i]\n",
    "        count=0\n",
    "    else:\n",
    "        break\n",
    "print(out_str)"
   ]
  },
  {
   "cell_type": "code",
   "execution_count": null,
   "id": "93dd15dd",
   "metadata": {},
   "outputs": [],
   "source": [
    "for i in range (1, 100):\n",
    "    if i%5 == 0 and i%3==0:\n",
    "        print (\"fizz buzz\")\n",
    "    elif i%5==0:\n",
    "        print(\"buzz\")\n",
    "    elif  i%3==0:\n",
    "        print (\"fizz\")\n",
    "    else:\n",
    "        print (i)\n",
    "        "
   ]
  },
  {
   "cell_type": "code",
   "execution_count": null,
   "id": "a64bdc47",
   "metadata": {},
   "outputs": [],
   "source": [
    "for i in range (1,50):\n",
    "    if i%5 == 0 and i%3==0:\n",
    "        print (\"fizz buzz\")\n",
    "    else:\n",
    "        print (i)"
   ]
  },
  {
   "cell_type": "code",
   "execution_count": null,
   "id": "3f6af294",
   "metadata": {},
   "outputs": [],
   "source": [
    "a= bin(24)\n",
    "print(a)"
   ]
  },
  {
   "cell_type": "code",
   "execution_count": null,
   "id": "ffccc67c",
   "metadata": {},
   "outputs": [],
   "source": [
    "def dec_to_bin (b):\n",
    "    mod_num=\" \"\n",
    "    while (b>0):\n",
    "        mod=b % 2\n",
    "        mod_num += str(mod)\n",
    "        b=b//2\n",
    "    return (mod_num)\n",
    "\n",
    "\n",
    "    \n",
    "\n",
    "\n"
   ]
  },
  {
   "cell_type": "code",
   "execution_count": null,
   "id": "c459d8df",
   "metadata": {},
   "outputs": [],
   "source": [
    "decimal=(dec_to_bin(300))\n",
    "print(decimal)\n",
    "    "
   ]
  },
  {
   "cell_type": "code",
   "execution_count": null,
   "id": "6c934c28",
   "metadata": {},
   "outputs": [],
   "source": [
    "decimal=(int(input(\"enter decimal number:\")))\n",
    "_binary=\" \"\n",
    "while (decimal>0):\n",
    "    mod=decimal % 2\n",
    "    _binary += str(mod)\n",
    "    decimal=decimal//2\n",
    "print(\"the binary equivalent is:\" +_binary[::-1])"
   ]
  },
  {
   "cell_type": "code",
   "execution_count": null,
   "id": "c72fc80e",
   "metadata": {},
   "outputs": [],
   "source": [
    "\n",
    "class Car:\n",
    "    def __init__(this, brand, model):\n",
    "        this.brand=brand\n",
    "        this.model=model\n",
    "        \n",
    "    def show_car(this):\n",
    "        print((\"my car is {0} {1}\").format(this.brand, this.model))\n",
    "        \n",
    "mycar=Car(\"mercedez\", \"450l\")\n",
    "mycar.show_car()\n",
    "\n",
    "        \n",
    "class Spec(Car):\n",
    "    def __init__ (this,brand,model,color,year):\n",
    "        super().__init__(brand,model)\n",
    "        this.color=color\n",
    "        this.year=year\n",
    "        \n",
    "    def show_spec(this):\n",
    "        print((\"my car is {0} {1} {2} {3}\").format(this.brand,this.model,this.color,this.year))\n",
    "\n",
    "\n",
    "my_spec=Spec(\"mercedez\",\"450l\",\"white\",\"2020\")\n",
    "my_spec.show_spec()\n",
    "\n"
   ]
  },
  {
   "cell_type": "code",
   "execution_count": 15,
   "id": "fb4be39b",
   "metadata": {},
   "outputs": [
    {
     "name": "stdout",
     "output_type": "stream",
     "text": [
      "Employees details precious intern jupyter technical 160 0\n",
      "Salary=80000\n",
      "Manager details Nickson Manager jupyter technical 160 0 west\n"
     ]
    }
   ],
   "source": [
    "class Employee:\n",
    "    def __init__(self, name, role, company, deparment, work_hours, salary):\n",
    "        self.name=name\n",
    "        self.role=role\n",
    "        self.company=company\n",
    "        self.deparment=deparment\n",
    "        self.work_hours=work_hours\n",
    "        self.salary = salary\n",
    "    \n",
    "        \n",
    "    def show_employee(self):\n",
    "        print((\"Employees details {0} {1} {2} {3} {4} {5}\" ).format(self.name, self.role, self.company, self.deparment,\n",
    "        self.work_hours, self.salary))\n",
    "    \n",
    "    def _salary(self, work_hours):\n",
    "        return work_hours*500\n",
    "        \n",
    "Employee_details=Employee(\"precious\", \"intern\", \"jupyter\", \"technical\", 160, 0)\n",
    "Employee_details.show_employee()\n",
    "mysalary =str(Employee_details._salary(160))\n",
    "print(\"Salary=\"+mysalary)\n",
    "\n",
    "class Manager(Employee):\n",
    "    def __init__ (self, name, role, company, deparment, work_hours,salary, region):\n",
    "        super().__init__ ( name, role, company, deparment, work_hours,salary)\n",
    "        self.region=region\n",
    "    \n",
    "    \n",
    "    def show_manager(self):\n",
    "        print((\"Manager details {0} {1} {2} {3} {4} {5} {6}\" ).format(self.name, self.role, self.company, self.deparment,\n",
    "        self.work_hours,self.salary, self.region))\n",
    "    \n",
    "Manager_details=Manager(\"Nickson\", \"Manager\", \"jupyter\", \"technical\", 160, 0, \"west\")\n",
    "Manager_details.show_manager()\n"
   ]
  },
  {
   "cell_type": "code",
   "execution_count": null,
   "id": "1d0dacf7",
   "metadata": {},
   "outputs": [],
   "source": []
  },
  {
   "cell_type": "code",
   "execution_count": null,
   "id": "9fd1f486",
   "metadata": {},
   "outputs": [],
   "source": [
    "class Account:\n",
    "    def __init__ (self, f_name, l_name, dob, address, bvn):\n",
    "        self.name = name\n",
    "        self.f_name = f_name\n",
    "        self.l_name = l_name\n",
    "        self.dob = dob\n",
    "        self.address = address\n",
    "        self.bvn = bvn\n",
    "\n",
    "class Saving (Account):\n",
    "    def __init__ (self, f_name, l_name, dob, address, bvn, acc_no, bal):\n",
    "        super().__init__(self, f_name, l_name, dob, address, bvn)\n",
    "        self.acc_no = acc_no\n",
    "        self.bal = bal\n",
    "    \n",
    "    def calc_itr (self, bal):\n",
    "        percent = 0.10/12\n",
    "        return percent*bal\n",
    "        \n",
    "class Current (Account):\n",
    "    def __init__ (self, f_name, l_name, dob, address, bvn, acc_no, bal):\n",
    "        super().__init__(self, f_name, l_name, dob, address, bvn)\n",
    "        self.acc_no = acc_no\n",
    "        self.bal = bal\n",
    "        \n",
    "    def charge (self, bal):\n",
    "        return bal-100\n",
    "    "
   ]
  },
  {
   "cell_type": "code",
   "execution_count": null,
   "id": "ec18269c",
   "metadata": {},
   "outputs": [],
   "source": []
  },
  {
   "cell_type": "code",
   "execution_count": null,
   "id": "94672255",
   "metadata": {},
   "outputs": [],
   "source": []
  },
  {
   "cell_type": "code",
   "execution_count": null,
   "id": "09eade93",
   "metadata": {},
   "outputs": [],
   "source": []
  },
  {
   "cell_type": "code",
   "execution_count": null,
   "id": "f5bca995",
   "metadata": {},
   "outputs": [],
   "source": []
  },
  {
   "cell_type": "code",
   "execution_count": null,
   "id": "f6071eac",
   "metadata": {},
   "outputs": [],
   "source": []
  },
  {
   "cell_type": "code",
   "execution_count": null,
   "id": "806a4055",
   "metadata": {},
   "outputs": [],
   "source": []
  },
  {
   "cell_type": "code",
   "execution_count": null,
   "id": "3ad822fc",
   "metadata": {},
   "outputs": [],
   "source": []
  },
  {
   "cell_type": "code",
   "execution_count": null,
   "id": "f79c3146",
   "metadata": {},
   "outputs": [],
   "source": []
  }
 ],
 "metadata": {
  "kernelspec": {
   "display_name": "Python 3 (ipykernel)",
   "language": "python",
   "name": "python3"
  },
  "language_info": {
   "codemirror_mode": {
    "name": "ipython",
    "version": 3
   },
   "file_extension": ".py",
   "mimetype": "text/x-python",
   "name": "python",
   "nbconvert_exporter": "python",
   "pygments_lexer": "ipython3",
   "version": "3.9.13"
  }
 },
 "nbformat": 4,
 "nbformat_minor": 5
}
