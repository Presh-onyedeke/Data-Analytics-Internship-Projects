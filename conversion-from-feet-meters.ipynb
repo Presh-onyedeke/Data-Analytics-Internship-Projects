{
 "cells": [
  {
   "cell_type": "code",
   "execution_count": 17,
   "id": "947413d6",
   "metadata": {},
   "outputs": [
    {
     "name": "stdout",
     "output_type": "stream",
     "text": [
      "enter value in feet or meters: 3\n",
      "enter the measuring unit: meters\n",
      "the conversion from feet to meters is: 9.843\n"
     ]
    }
   ],
   "source": [
    "value = float(input(\"enter value in feet or meters: \"))\n",
    "unit = input(\"enter the measuring unit: \")\n",
    "if unit == \"feet\":\n",
    "    feet = value*0.3048\n",
    "    print (f\"the conversion from meters to feet is: {round(feet,4)}\")\n",
    "elif unit ==\"meters\":\n",
    "    meters = value*3.281\n",
    "    print (f\"the conversion from feet to meters is: {round(meters,4)}\")\n",
    "else:\n",
    "    print(\"no measuring unit found\")"
   ]
  },
  {
   "cell_type": "code",
   "execution_count": 18,
   "id": "24cdb8b1",
   "metadata": {},
   "outputs": [
    {
     "name": "stdout",
     "output_type": "stream",
     "text": [
      " Volume in drive C has no label.\n",
      " Volume Serial Number is F87C-BE08\n",
      "\n",
      " Directory of C:\\Users\\PRECIOUS ONYEDEKE\\Documents\\DATA-ENGINEERING\\internship class\\Data-Engineering\n",
      "\n",
      "01/06/2023  05:16 AM    <DIR>          .\n",
      "01/06/2023  05:16 AM    <DIR>          ..\n",
      "01/06/2023  04:51 AM    <DIR>          .ipynb_checkpoints\n",
      "12/31/2022  12:11 PM            33,486 ASSIGNMENT ON E-COMMERCE MODELLING.pgerd\n",
      "01/06/2023  05:16 AM             2,123 conversion-from-feet-meters.ipynb\n",
      "12/31/2022  12:19 PM               782 data_creation.sql\n",
      "12/31/2022  12:20 PM               782 E-commerce query  assignment.sql\n",
      "12/29/2022  02:14 AM            16,207 ERD.pgerd\n",
      "01/05/2023  02:39 AM                38 README.md\n",
      "01/05/2023  03:39 AM             2,682 script.py.ipynb\n",
      "               7 File(s)         56,100 bytes\n",
      "               3 Dir(s)  137,498,177,536 bytes free\n"
     ]
    }
   ],
   "source": [
    "ls"
   ]
  },
  {
   "cell_type": "code",
   "execution_count": 20,
   "id": "55e99e90",
   "metadata": {},
   "outputs": [
    {
     "data": {
      "text/plain": [
       "'C:\\\\Users\\\\PRECIOUS ONYEDEKE\\\\Documents\\\\DATA-ENGINEERING\\\\internship class\\\\Data-Engineering'"
      ]
     },
     "execution_count": 20,
     "metadata": {},
     "output_type": "execute_result"
    }
   ],
   "source": [
    "pwd"
   ]
  },
  {
   "cell_type": "code",
   "execution_count": 21,
   "id": "5527f9e4",
   "metadata": {},
   "outputs": [
    {
     "ename": "SyntaxError",
     "evalue": "invalid syntax (3081662196.py, line 1)",
     "output_type": "error",
     "traceback": [
      "\u001b[1;36m  File \u001b[1;32m\"C:\\Users\\PRECIOUS ONYEDEKE\\AppData\\Local\\Temp\\ipykernel_4404\\3081662196.py\"\u001b[1;36m, line \u001b[1;32m1\u001b[0m\n\u001b[1;33m    git add.\u001b[0m\n\u001b[1;37m        ^\u001b[0m\n\u001b[1;31mSyntaxError\u001b[0m\u001b[1;31m:\u001b[0m invalid syntax\n"
     ]
    }
   ],
   "source": [
    "git add."
   ]
  },
  {
   "cell_type": "code",
   "execution_count": null,
   "id": "2413237d",
   "metadata": {},
   "outputs": [],
   "source": []
  },
  {
   "cell_type": "code",
   "execution_count": null,
   "id": "94148580",
   "metadata": {},
   "outputs": [],
   "source": []
  },
  {
   "cell_type": "code",
   "execution_count": null,
   "id": "8c71c5a2",
   "metadata": {},
   "outputs": [],
   "source": []
  }
 ],
 "metadata": {
  "kernelspec": {
   "display_name": "Python 3 (ipykernel)",
   "language": "python",
   "name": "python3"
  },
  "language_info": {
   "codemirror_mode": {
    "name": "ipython",
    "version": 3
   },
   "file_extension": ".py",
   "mimetype": "text/x-python",
   "name": "python",
   "nbconvert_exporter": "python",
   "pygments_lexer": "ipython3",
   "version": "3.9.13"
  }
 },
 "nbformat": 4,
 "nbformat_minor": 5
}
