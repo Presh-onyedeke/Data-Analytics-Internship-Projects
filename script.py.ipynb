{
 "cells": [
  {
   "cell_type": "code",
   "execution_count": 1,
   "id": "89548332",
   "metadata": {},
   "outputs": [
    {
     "data": {
      "text/plain": [
       "'C:\\\\Users\\\\PRECIOUS ONYEDEKE\\\\Documents\\\\DATA-ENGINEERING\\\\internship class\\\\Data-Engineering'"
      ]
     },
     "execution_count": 1,
     "metadata": {},
     "output_type": "execute_result"
    }
   ],
   "source": [
    "pwd\n"
   ]
  },
  {
   "cell_type": "code",
   "execution_count": 2,
   "id": "c7eae033",
   "metadata": {},
   "outputs": [
    {
     "ename": "SyntaxError",
     "evalue": "Missing parentheses in call to 'print'. Did you mean print(d)? (1150528806.py, line 4)",
     "output_type": "error",
     "traceback": [
      "\u001b[1;36m  File \u001b[1;32m\"C:\\Users\\PRECIOUS ONYEDEKE\\AppData\\Local\\Temp\\ipykernel_8828\\1150528806.py\"\u001b[1;36m, line \u001b[1;32m4\u001b[0m\n\u001b[1;33m    print d;\u001b[0m\n\u001b[1;37m          ^\u001b[0m\n\u001b[1;31mSyntaxError\u001b[0m\u001b[1;31m:\u001b[0m Missing parentheses in call to 'print'. Did you mean print(d)?\n"
     ]
    }
   ],
   "source": [
    "x=1;\n",
    "y=2;\n",
    "d=x+y;\n",
    "print d;"
   ]
  },
  {
   "cell_type": "code",
   "execution_count": 3,
   "id": "5dc4a457",
   "metadata": {},
   "outputs": [
    {
     "name": "stdout",
     "output_type": "stream",
     "text": [
      "3\n"
     ]
    }
   ],
   "source": [
    "x=1;\n",
    "y=2;\n",
    "d=x+y;\n",
    "print (d);"
   ]
  },
  {
   "cell_type": "code",
   "execution_count": 13,
   "id": "f2417367",
   "metadata": {},
   "outputs": [],
   "source": [
    "x=21;\n",
    "y=23;\n",
    "if x==43:\n",
    "    print (x)\n",
    "   \n",
    "    print (y)\n",
    "    "
   ]
  },
  {
   "cell_type": "code",
   "execution_count": 19,
   "id": "82f3d03d",
   "metadata": {},
   "outputs": [
    {
     "name": "stdout",
     "output_type": "stream",
     "text": [
      "23\n"
     ]
    }
   ],
   "source": [
    "x=21;\n",
    "y=23;\n",
    "if x>43:\n",
    "    print (x)\n",
    "else:\n",
    "    print (y)\n",
    "    "
   ]
  },
  {
   "cell_type": "code",
   "execution_count": null,
   "id": "e1c97e52",
   "metadata": {},
   "outputs": [],
   "source": []
  }
 ],
 "metadata": {
  "kernelspec": {
   "display_name": "Python 3 (ipykernel)",
   "language": "python",
   "name": "python3"
  },
  "language_info": {
   "codemirror_mode": {
    "name": "ipython",
    "version": 3
   },
   "file_extension": ".py",
   "mimetype": "text/x-python",
   "name": "python",
   "nbconvert_exporter": "python",
   "pygments_lexer": "ipython3",
   "version": "3.9.13"
  }
 },
 "nbformat": 4,
 "nbformat_minor": 5
}
